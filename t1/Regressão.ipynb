{
 "cells": [
  {
   "cell_type": "code",
   "execution_count": 3,
   "id": "e4478fd6-999d-4820-9ade-0f087e2f76ac",
   "metadata": {
    "tags": []
   },
   "outputs": [],
   "source": [
    "import sklearn\n",
    "import numpy as np\n",
    "import pandas as pd\n",
    "from pathlib import Path"
   ]
  },
  {
   "cell_type": "code",
   "execution_count": 4,
   "id": "e34e3e87-2e5e-4e10-a865-c4266b8b67a6",
   "metadata": {
    "tags": []
   },
   "outputs": [],
   "source": [
    "def parse_data(data):\n",
    "    Y = data[data.columns[-1]]\n",
    "    X = data.drop([data.columns[-1]], axis=1)\n",
    "    \n",
    "    return X, Y\n",
    "\n",
    "DATASETS = []\n",
    "\n",
    "NAMES = [\n",
    "    \"autoprice\", \"linear\", \"sawtooth\"\n",
    "]\n",
    "BASE_DIR = Path(\"../datasets/regressao/\")\n",
    "\n",
    "for name in NAMES:\n",
    "    path = BASE_DIR / name / \"data.csv\"\n",
    "    d = pd.read_csv(str(path), header=None)\n",
    "    DATASETS.append(d)"
   ]
  },
  {
   "cell_type": "code",
   "execution_count": 5,
   "id": "7322dd71-5615-4118-ab0d-1984e7c0c540",
   "metadata": {
    "tags": []
   },
   "outputs": [],
   "source": [
    "from sklearn.svm import SVR\n",
    "import matplotlib.pyplot as plt\n",
    "from sklearn.model_selection import GridSearchCV, train_test_split\n",
    "from sklearn.pipeline import Pipeline\n",
    "from sklearn.linear_model import LinearRegression\n",
    "from sklearn.inspection import DecisionBoundaryDisplay\n",
    "from sklearn.preprocessing import StandardScaler\n",
    "from sklearn.metrics import r2_score\n",
    "\n",
    "import warnings\n",
    "warnings.filterwarnings(\"ignore\")\n",
    "\n",
    "def make_grid_params_rbf():\n",
    "    \n",
    "    Cs = np.logspace(-1, 2.1, 5)\n",
    "    Gammas = np.logspace(-2, 2.1, 5)\n",
    "    kernel = np.array([\"rbf\", \"linear\"])\n",
    "\n",
    "    grid = {\n",
    "        \"rbf__C\": Cs,\n",
    "        \"rbf__gamma\": Gammas,\n",
    "        \"rbf__kernel\": kernel,\n",
    "    }\n",
    "    \n",
    "    return grid\n",
    "\n",
    "def make_grid_params_poly():\n",
    "    \n",
    "    Cs = np.logspace(-1, 2.1, 5)\n",
    "    Gammas = np.logspace(-2, 2.1, 5)\n",
    "    kernel = np.array([\"poly\"])\n",
    "    degree = np.array([2, 3, 4])\n",
    "\n",
    "    grid = {\n",
    "        \"poly__C\": Cs,\n",
    "        \"poly__gamma\": Gammas,\n",
    "        \"poly__degree\": degree,\n",
    "        \"poly__kernel\": kernel,\n",
    "    }\n",
    "    \n",
    "    return grid"
   ]
  },
  {
   "cell_type": "markdown",
   "id": "065efafe-f994-4d79-9768-6d45a8fa6c58",
   "metadata": {},
   "source": [
    "# SVR"
   ]
  },
  {
   "cell_type": "code",
   "execution_count": 4,
   "id": "48c6f6bd-0faa-4b44-9bc7-3dd06acfccd3",
   "metadata": {
    "tags": []
   },
   "outputs": [
    {
     "name": "stdout",
     "output_type": "stream",
     "text": [
      "{'C': 125.89254117941675, 'gamma': 0.01, 'kernel': 'linear'}\n",
      "R²: 0.7927547622449088 +/- 0.022832853780859218\n",
      "{'C': 21.134890398366476, 'gamma': 0.01, 'kernel': 'linear'}\n",
      "R²: 0.999974630052491 +/- 2.7573160542486627e-07\n",
      "{'C': 21.134890398366476, 'gamma': 11.885022274370177, 'kernel': 'rbf'}\n",
      "R²: 0.9935337434600393 +/- 0.0008195089253510663\n"
     ]
    }
   ],
   "source": [
    "plot_colors = \"ryb\"\n",
    "grid = make_grid_params_rbf()\n",
    "for (i, dataset) in enumerate(DATASETS):\n",
    "    \n",
    "    X, Y = parse_data(dataset)\n",
    "    ACCS = []\n",
    "    SENS = []\n",
    "    SPECS = []\n",
    "    \n",
    "    X_train, X_test, y_train, y_test = train_test_split(X, Y, test_size=0.3)\n",
    "    scaler = StandardScaler()\n",
    "    pipeline = Pipeline(steps = [(\"scaler\", scaler), (\"rbf\", SVR())])\n",
    "    \n",
    "    gscv = GridSearchCV(\n",
    "        estimator=pipeline, param_grid=grid, cv=5\n",
    "    )\n",
    "    gscv.fit(X_train, y_train)\n",
    "    best_params = {key.split(\"__\")[-1]: value for key, value in gscv.best_params_.items()}\n",
    "    \n",
    "    print(best_params)\n",
    "    r2 = []\n",
    "    for _ in range(5):\n",
    "        X_train, X_test, y_train, y_test = train_test_split(X, Y, test_size=0.3)\n",
    "        \n",
    "        # ETAPA DE TREINAMENTO\n",
    "        clf = SVR(**best_params)\n",
    "        X_train = scaler.fit_transform(X_train)\n",
    "        clf.fit(X_train, y_train)\n",
    "\n",
    "        # ETAPA DE TESTES\n",
    "        X_test = scaler.transform(X_test)\n",
    "        Y_pred = clf.predict(X_test)\n",
    "        \n",
    "        r2.append(r2_score(y_test, Y_pred))\n",
    "        \n",
    "    print(\"R²: {} +/- {}\".format(\n",
    "        np.mean(r2), np.std(r2)\n",
    "    ))"
   ]
  },
  {
   "cell_type": "markdown",
   "id": "760b3bfd-6b27-404e-a1ae-93a4687056e7",
   "metadata": {
    "tags": []
   },
   "source": [
    "# Simple Regression"
   ]
  },
  {
   "cell_type": "code",
   "execution_count": 7,
   "id": "694df047-745b-4897-8a0c-44d09653ab44",
   "metadata": {
    "tags": []
   },
   "outputs": [
    {
     "name": "stdout",
     "output_type": "stream",
     "text": [
      "R²: 0.7795065636159733 +/- 0.013172477469909932\n",
      "R²: 0.9999999998877389 +/- 3.333560819090082e-11\n",
      "R²: 0.7167538323424262 +/- 0.017895084622443498\n"
     ]
    }
   ],
   "source": [
    "plot_colors = \"ryb\"\n",
    "for (i, dataset) in enumerate(DATASETS):\n",
    "    \n",
    "    X, Y = parse_data(dataset)\n",
    "    ACCS = []\n",
    "    SENS = []\n",
    "    SPECS = []\n",
    "    \n",
    "    r2 = []\n",
    "    for _ in range(5):\n",
    "        X_train, X_test, y_train, y_test = train_test_split(X, Y, test_size=0.3)\n",
    "        \n",
    "        # ETAPA DE TREINAMENTO\n",
    "        clf = LinearRegression()\n",
    "        X_train = scaler.fit_transform(X_train)\n",
    "        clf.fit(X_train, y_train)\n",
    "\n",
    "        # ETAPA DE TESTES\n",
    "        X_test = scaler.transform(X_test)\n",
    "        Y_pred = clf.predict(X_test)\n",
    "        \n",
    "        r2.append(r2_score(y_test, Y_pred))\n",
    "        \n",
    "    print(\"R²: {} +/- {}\".format(\n",
    "        np.mean(r2), np.std(r2)\n",
    "    ))"
   ]
  },
  {
   "cell_type": "markdown",
   "id": "d6c9b864-b881-4912-84c6-1085b26306b2",
   "metadata": {},
   "source": [
    "# Decision Tree Regression"
   ]
  },
  {
   "cell_type": "code",
   "execution_count": 7,
   "id": "76ea6063-f8cd-478f-831b-bb47392f11e7",
   "metadata": {},
   "outputs": [
    {
     "name": "stdout",
     "output_type": "stream",
     "text": [
      "{'max_depth': 4, 'min_samples_split': 6}\n",
      "R²: 0.759677619018564 +/- 0.08776787971205904\n",
      "{'max_depth': 8, 'min_samples_split': 2}\n",
      "R²: 0.9995745071950376 +/- 9.317884521575387e-05\n",
      "{'max_depth': 10, 'min_samples_split': 2}\n",
      "R²: 0.994692424013075 +/- 0.0013099142629427916\n"
     ]
    }
   ],
   "source": [
    "plot_colors = \"ryb\"\n",
    "grid = {\n",
    "    'tree__max_depth': [2, 4, 6, 8, 10, 12],\n",
    "    'tree__min_samples_split': [2, 4, 6, 8, 10, 12],\n",
    "}\n",
    "\n",
    "from sklearn.tree import DecisionTreeRegressor\n",
    "\n",
    "for (i, dataset) in enumerate(DATASETS):\n",
    "    \n",
    "    X, Y = parse_data(dataset)\n",
    "    ACCS = []\n",
    "    SENS = []\n",
    "    SPECS = []\n",
    "    \n",
    "    X_train, X_test, y_train, y_test = train_test_split(X, Y, test_size=0.3)\n",
    "    scaler = StandardScaler()\n",
    "    pipeline = Pipeline(steps = [(\"scaler\", scaler), (\"tree\", DecisionTreeRegressor())])\n",
    "    \n",
    "    gscv = GridSearchCV(\n",
    "        estimator=pipeline, param_grid=grid, cv=5\n",
    "    )\n",
    "    gscv.fit(X_train, y_train)\n",
    "    best_params = {key.split(\"__\")[-1]: value for key, value in gscv.best_params_.items()}\n",
    "    \n",
    "    print(best_params)\n",
    "    r2 = []\n",
    "    for _ in range(5):\n",
    "        X_train, X_test, y_train, y_test = train_test_split(X, Y, test_size=0.3)\n",
    "        \n",
    "        # ETAPA DE TREINAMENTO\n",
    "        clf = DecisionTreeRegressor(**best_params)\n",
    "        X_train = scaler.fit_transform(X_train)\n",
    "        clf.fit(X_train, y_train)\n",
    "\n",
    "        # ETAPA DE TESTES\n",
    "        X_test = scaler.transform(X_test)\n",
    "        Y_pred = clf.predict(X_test)\n",
    "        \n",
    "        r2.append(r2_score(y_test, Y_pred))\n",
    "        \n",
    "    print(\"R²: {} +/- {}\".format(\n",
    "        np.mean(r2), np.std(r2)\n",
    "    ))"
   ]
  }
 ],
 "metadata": {
  "kernelspec": {
   "display_name": "machine-learning",
   "language": "python",
   "name": "machine-learning"
  },
  "language_info": {
   "codemirror_mode": {
    "name": "ipython",
    "version": 3
   },
   "file_extension": ".py",
   "mimetype": "text/x-python",
   "name": "python",
   "nbconvert_exporter": "python",
   "pygments_lexer": "ipython3",
   "version": "3.11.5"
  }
 },
 "nbformat": 4,
 "nbformat_minor": 5
}
