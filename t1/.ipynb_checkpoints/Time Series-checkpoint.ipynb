{
 "cells": [
  {
   "cell_type": "code",
   "execution_count": 73,
   "id": "fbf476c5-dea7-4842-a23f-357b1a306277",
   "metadata": {},
   "outputs": [],
   "source": [
    "from statsmodels.tsa.ar_model import AutoReg\n",
    "from statsmodels.tsa.arima.model import ARIMA"
   ]
  },
  {
   "cell_type": "code",
   "execution_count": 56,
   "id": "ae97164b-1270-4ac1-95ee-38a235248d60",
   "metadata": {
    "tags": []
   },
   "outputs": [],
   "source": [
    "import sklearn\n",
    "from sklearn.metrics import mean_squared_error, mean_absolute_error\n",
    "import numpy as np\n",
    "import pandas as pd\n",
    "from pathlib import Path"
   ]
  },
  {
   "cell_type": "code",
   "execution_count": 128,
   "id": "83919a5b-8790-498a-b49c-9e5efb5f4b58",
   "metadata": {
    "tags": []
   },
   "outputs": [
    {
     "name": "stderr",
     "output_type": "stream",
     "text": [
      "/tmp/ipykernel_183994/2284355748.py:10: ParserWarning: Falling back to the 'python' engine because the 'c' engine does not support regex separators (separators > 1 char and different from '\\s+' are interpreted as regex); you can avoid this warning by specifying engine='python'.\n",
      "  DATASET = pd.read_table(path, sep=\"\\t+\")\n"
     ]
    }
   ],
   "source": [
    "def parse_data(data):\n",
    "    Y = data[data.columns[-1]]\n",
    "    X = data.drop([data.columns[-1]], axis=1)\n",
    "    \n",
    "    return X, Y\n",
    "\n",
    "BASE_DIR = Path(\"../datasets/serieTemporal/\")\n",
    "\n",
    "path = BASE_DIR / NAMES[0] / \"sunspots.dat\"\n",
    "DATASET = pd.read_table(path, sep=\"\\t+\")"
   ]
  },
  {
   "cell_type": "markdown",
   "id": "efcea3d6-c472-4ab1-94d5-3ba2602576ca",
   "metadata": {},
   "source": [
    "# Coloca os instantes em inteiros"
   ]
  },
  {
   "cell_type": "code",
   "execution_count": 129,
   "id": "37c88719-c430-467d-a481-8de8239a5f55",
   "metadata": {
    "tags": []
   },
   "outputs": [],
   "source": [
    "DATASET[\"time\"] = (DATASET[\"time\"] - DATASET[\"time\"][0])/(DATASET[\"time\"][1] - DATASET[\"time\"][0])"
   ]
  },
  {
   "cell_type": "code",
   "execution_count": 123,
   "id": "a72c13e7-ec51-4710-be9b-e9e5f54d6973",
   "metadata": {
    "tags": []
   },
   "outputs": [],
   "source": [
    "from sklearn.model_selection import TimeSeriesSplit\n",
    "\n",
    "cv = TimeSeriesSplit()"
   ]
  },
  {
   "cell_type": "markdown",
   "id": "9988924d-1119-4e8e-a374-0a6381d821bf",
   "metadata": {},
   "source": [
    "# Auto Regressor"
   ]
  },
  {
   "cell_type": "code",
   "execution_count": 131,
   "id": "46cf65ac-15c8-4056-981c-d5ee080eec4b",
   "metadata": {
    "tags": []
   },
   "outputs": [
    {
     "ename": "ValueError",
     "evalue": "too many values to unpack (expected 2)",
     "output_type": "error",
     "traceback": [
      "\u001b[0;31m---------------------------------------------------------------------------\u001b[0m",
      "\u001b[0;31mValueError\u001b[0m                                Traceback (most recent call last)",
      "Cell \u001b[0;32mIn[131], line 1\u001b[0m\n\u001b[0;32m----> 1\u001b[0m \u001b[38;5;28;01mfor\u001b[39;00m i, (train_index, test_index) \u001b[38;5;129;01min\u001b[39;00m cv\u001b[38;5;241m.\u001b[39msplit(DATASET[\u001b[38;5;124m\"\u001b[39m\u001b[38;5;124mvalue\u001b[39m\u001b[38;5;124m\"\u001b[39m]):\n\u001b[1;32m      2\u001b[0m     train_data \u001b[38;5;241m=\u001b[39m DATASET[\u001b[38;5;124m\"\u001b[39m\u001b[38;5;124mvalue\u001b[39m\u001b[38;5;124m\"\u001b[39m][train_index]\n\u001b[1;32m      3\u001b[0m     test_data \u001b[38;5;241m=\u001b[39m DATASET[\u001b[38;5;124m\"\u001b[39m\u001b[38;5;124mvalue\u001b[39m\u001b[38;5;124m\"\u001b[39m][test_index]\n",
      "\u001b[0;31mValueError\u001b[0m: too many values to unpack (expected 2)"
     ]
    }
   ],
   "source": [
    "for i, (train_index, test_index) in enumerate(cv.split(DATASET[\"value\"])):\n",
    "    train_data = DATASET[\"value\"][train_index]\n",
    "    test_data = DATASET[\"value\"][test_index]\n",
    "\n",
    "    rg = ARIMA(train_data, order=(3, 0, 0))\n",
    "    results = rg.fit()\n",
    "\n",
    "    train_size, test_size = len(train_data), len(test_data)\n",
    "    predictions = results.predict(start=train_size, end=train_size + test_size - 1, dynamic=False)\n",
    "    mse = mean_squared_error(test_data, predictions, squared=True)\n",
    "    rmse = mean_squared_error(test_data, predictions, squared=False)\n",
    "    mae = mean_absolute_error(test_data, predictions)\n",
    "    print('Test RMSE: %.3f' % best_rmse)\n",
    "    print('Test MSE: %.3f' % best_mse)\n",
    "    print('Test MAE: %.3f' % best_mae)\n",
    "    print(\"-------------------------------------------------------------\")"
   ]
  },
  {
   "cell_type": "markdown",
   "id": "b6bcd8c3-fcc5-40b8-95ca-45d985ceac0f",
   "metadata": {},
   "source": [
    "# Auto Regressor - Moving Average"
   ]
  },
  {
   "cell_type": "code",
   "execution_count": 121,
   "id": "a778e84f-1650-4ef7-8a74-823331fe0bfe",
   "metadata": {
    "tags": []
   },
   "outputs": [
    {
     "name": "stdout",
     "output_type": "stream",
     "text": [
      "Test RMSE: 17.689\n",
      "Test MSE: 312.901\n",
      "Test MAE: 12.946\n"
     ]
    }
   ],
   "source": [
    "rg = ARIMA(DATASET[\"value\"], order=(3, 0, 1))\n",
    "results = rg.fit()\n",
    "\n",
    "predictions = results.predict(start=train_size, end=train_size + test_size - 1, dynamic=False)\n",
    "mse = mean_squared_error(test_data[\"value\"], predictions, squared=True)\n",
    "rmse = mean_squared_error(test_data[\"value\"], predictions, squared=False)\n",
    "mae = mean_absolute_error(test_data[\"value\"], predictions)\n",
    "print('Test RMSE: %.3f' % best_rmse)\n",
    "print('Test MSE: %.3f' % best_mse)\n",
    "print('Test MAE: %.3f' % best_mae)"
   ]
  },
  {
   "cell_type": "code",
   "execution_count": 122,
   "id": "f039fd49-ea76-4440-9c88-f1ce285f4efb",
   "metadata": {
    "tags": []
   },
   "outputs": [
    {
     "name": "stderr",
     "output_type": "stream",
     "text": [
      "/home/yves/anaconda3/envs/machine-learning/lib/python3.11/site-packages/statsmodels/tsa/statespace/sarimax.py:978: UserWarning: Non-invertible starting MA parameters found. Using zeros as starting parameters.\n",
      "  warn('Non-invertible starting MA parameters found.'\n"
     ]
    },
    {
     "name": "stdout",
     "output_type": "stream",
     "text": [
      "Test RMSE: 17.689\n",
      "Test MSE: 312.901\n",
      "Test MAE: 12.946\n"
     ]
    }
   ],
   "source": [
    "rg = ARIMA(DATASET[\"value\"], order=(2, 2, 2))\n",
    "results = rg.fit()\n",
    "\n",
    "predictions = results.predict(start=train_size, end=train_size + test_size - 1, dynamic=False)\n",
    "mse = mean_squared_error(test_data[\"value\"], predictions, squared=True)\n",
    "rmse = mean_squared_error(test_data[\"value\"], predictions, squared=False)\n",
    "mae = mean_absolute_error(test_data[\"value\"], predictions)\n",
    "print('Test RMSE: %.3f' % best_rmse)\n",
    "print('Test MSE: %.3f' % best_mse)\n",
    "print('Test MAE: %.3f' % best_mae)"
   ]
  }
 ],
 "metadata": {
  "kernelspec": {
   "display_name": "machine-learning",
   "language": "python",
   "name": "machine-learning"
  },
  "language_info": {
   "codemirror_mode": {
    "name": "ipython",
    "version": 3
   },
   "file_extension": ".py",
   "mimetype": "text/x-python",
   "name": "python",
   "nbconvert_exporter": "python",
   "pygments_lexer": "ipython3",
   "version": "3.11.5"
  }
 },
 "nbformat": 4,
 "nbformat_minor": 5
}
